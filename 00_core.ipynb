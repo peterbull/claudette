{
 "cells": [
  {
   "cell_type": "code",
   "execution_count": 1,
   "id": "efe78920",
   "metadata": {},
   "outputs": [],
   "source": [
    "#|default_exp core"
   ]
  },
  {
   "cell_type": "markdown",
   "id": "3d773712-12fe-440e-891f-36f59666dfde",
   "metadata": {},
   "source": [
    "# Claudette's source"
   ]
  },
  {
   "cell_type": "markdown",
   "id": "c47b5d38",
   "metadata": {},
   "source": [
    "This is the 'literate' source code for Claudette. You can view the fully rendered version of the notebook [here](https://claudette.answer.ai/core.html), or you can clone the git repo and run the [interactive notebook](https://github.com/AnswerDotAI/claudette/blob/main/00_core.ipynb) in Jupyter. The notebook is converted the [Python module claudette/core.py](https://github.com/AnswerDotAI/claudette/blob/main/claudette/core.py) using [nbdev](https://nbdev.fast.ai/). The goal of this source code is to both create the Python module, and also to teach the reader *how* it is created, without assuming much existing knowledge about Claude's API.\n",
    "\n",
    "Most of the time you'll see that we write some source code *first*, and then a description or discussion of it *afterwards*."
   ]
  },
  {
   "cell_type": "markdown",
   "id": "ff6f6471-8061-4fdd-85a1-25fdc27c5cf3",
   "metadata": {},
   "source": [
    "## Setup"
   ]
  },
  {
   "cell_type": "code",
   "execution_count": 2,
   "id": "27deb531",
   "metadata": {},
   "outputs": [],
   "source": [
    "from dotenv import load_dotenv"
   ]
  },
  {
   "cell_type": "code",
   "execution_count": 3,
   "id": "bd072145",
   "metadata": {},
   "outputs": [
    {
     "data": {
      "text/plain": [
       "True"
      ]
     },
     "execution_count": 3,
     "metadata": {},
     "output_type": "execute_result"
    }
   ],
   "source": [
    "load_dotenv()"
   ]
  },
  {
   "cell_type": "code",
   "execution_count": 4,
   "id": "f1ad998e-4bb1-4bed-abf4-6e8606cb2453",
   "metadata": {},
   "outputs": [],
   "source": [
    "import os\n",
    "# os.environ['ANTHROPIC_LOG'] = 'debug'"
   ]
  },
  {
   "cell_type": "code",
   "execution_count": null,
   "id": "7b969e2b",
   "metadata": {},
   "outputs": [],
   "source": []
  },
  {
   "cell_type": "markdown",
   "id": "5b16f396",
   "metadata": {},
   "source": [
    "To print every HTTP request and response in full, uncomment the above line. This functionality is provided by Anthropic's SDK."
   ]
  },
  {
   "cell_type": "code",
   "execution_count": 5,
   "id": "033c76fd",
   "metadata": {},
   "outputs": [],
   "source": [
    "#| export\n",
    "import inspect, typing, mimetypes, base64, json\n",
    "from collections import abc\n",
    "try: from IPython import display\n",
    "except: display=None\n",
    "\n",
    "from anthropic import Anthropic, AnthropicBedrock, AnthropicVertex\n",
    "from anthropic.types import Usage, TextBlock, Message, ToolUseBlock\n",
    "from anthropic.resources import messages\n",
    "\n",
    "import toolslm\n",
    "from toolslm.funccall import *\n",
    "\n",
    "from fastcore import imghdr\n",
    "from fastcore.meta import delegates\n",
    "from fastcore.utils import *"
   ]
  },
  {
   "cell_type": "code",
   "execution_count": 6,
   "id": "13866a72",
   "metadata": {},
   "outputs": [],
   "source": [
    "#| hide\n",
    "from nbdev import show_doc"
   ]
  },
  {
   "cell_type": "code",
   "execution_count": 7,
   "id": "f5fa6b92",
   "metadata": {},
   "outputs": [],
   "source": [
    "#| export\n",
    "empty = inspect.Parameter.empty"
   ]
  },
  {
   "cell_type": "code",
   "execution_count": 8,
   "id": "162b8733",
   "metadata": {},
   "outputs": [
    {
     "data": {
      "text/plain": [
       "inspect._empty"
      ]
     },
     "execution_count": 8,
     "metadata": {},
     "output_type": "execute_result"
    }
   ],
   "source": [
    "inspect.Parameter.empty"
   ]
  },
  {
   "cell_type": "markdown",
   "id": "9c3c2197",
   "metadata": {},
   "source": [
    ":::{.callout-tip}\n",
    "\n",
    "If you're reading the rendered version of this notebook, you'll see an \"Exported source\" collapsible widget below. If you're reading the source notebook directly, you'll see `#| exports` at the top of the cell. These show that this piece of code will be exported into the python module that this notebook creates. No other code will be included -- any other code in this notebook is just for demonstration, documentation, and testing.\n",
    "\n",
    "You can toggle expanding/collapsing the source code of all exported sections by using the `</> Code` menu in the top right of the rendered notebook page.\n",
    "\n",
    ":::"
   ]
  },
  {
   "cell_type": "code",
   "execution_count": 9,
   "id": "0fff8869",
   "metadata": {},
   "outputs": [],
   "source": [
    "#| exports\n",
    "models = 'claude-3-opus-20240229','claude-3-5-sonnet-20240620','claude-3-haiku-20240307'"
   ]
  },
  {
   "cell_type": "markdown",
   "id": "ba6c7f48",
   "metadata": {},
   "source": [
    "These are the current versions of Anthropic's model at the time of writing."
   ]
  },
  {
   "cell_type": "code",
   "execution_count": 10,
   "id": "dacf2bd2",
   "metadata": {},
   "outputs": [],
   "source": [
    "model = models[-1]"
   ]
  },
  {
   "cell_type": "markdown",
   "id": "71985a9c",
   "metadata": {},
   "source": [
    "For examples, we'll use Sonnet 3.5, since it's awesome."
   ]
  },
  {
   "cell_type": "markdown",
   "id": "863d4d81",
   "metadata": {},
   "source": [
    "## Antropic SDK"
   ]
  },
  {
   "cell_type": "code",
   "execution_count": 11,
   "id": "70b53a51",
   "metadata": {},
   "outputs": [],
   "source": [
    "cli = Anthropic()"
   ]
  },
  {
   "cell_type": "markdown",
   "id": "23055b40",
   "metadata": {},
   "source": [
    "This is what Anthropic's SDK provides for interacting with Python. To use it, pass it a list of *messages*, with *content* and a *role*. The roles should alternate between *user* and *assistant*."
   ]
  },
  {
   "cell_type": "markdown",
   "id": "b2db9466",
   "metadata": {},
   "source": [
    ":::{.callout-tip}\n",
    "\n",
    "After the code below you'll see an indented section with an orange vertical line on the left. This is used to show the *result* of running the code above. Because the code is running in a Jupyter Notebook, we don't have to use `print` to display results, we can just type the expression directly, as we do with `r` here.\n",
    "\n",
    ":::"
   ]
  },
  {
   "cell_type": "code",
   "execution_count": 12,
   "id": "6ec40731",
   "metadata": {},
   "outputs": [
    {
     "data": {
      "text/plain": [
       "Message(id='msg_01CRQ13Poufq6dUnSiSCDDAG', content=[TextBlock(text=\"It's nice to meet you, Jeremy! I'm Claude, an AI assistant created by Anthropic. How can I assist you today?\", type='text')], model='claude-3-haiku-20240307', role='assistant', stop_reason='end_turn', stop_sequence=None, type='message', usage=Usage(input_tokens=10, output_tokens=32))"
      ]
     },
     "execution_count": 12,
     "metadata": {},
     "output_type": "execute_result"
    }
   ],
   "source": [
    "m = {'role': 'user', 'content': \"I'm Jeremy\"}\n",
    "r = cli.messages.create(messages=[m], model=model, max_tokens=100)\n",
    "r"
   ]
  },
  {
   "cell_type": "markdown",
   "id": "d6359e1a",
   "metadata": {},
   "source": [
    "### Formatting output"
   ]
  },
  {
   "cell_type": "markdown",
   "id": "865c40a9",
   "metadata": {},
   "source": [
    "That output is pretty long and hard to read, so let's clean it up. We'll start by pulling out the `Content` part of the message.\n",
    "To do that, we're going to write our first function which will be included to the `claudette/core.py` module."
   ]
  },
  {
   "cell_type": "markdown",
   "id": "e42e5d44",
   "metadata": {},
   "source": [
    ":::{.callout-tip}\n",
    "\n",
    "This is the first exported public function or class we're creating (the previous export was of a variable). In the rendered version of the notebook for these you'll see 4 things, in this order (unless the symbol starts with a single `_`, which indicates it's *private*):\n",
    "\n",
    "- The signature (with the symbol name as a heading, with a horizontal rule above)\n",
    "- A table of paramater docs (if provided)\n",
    "- The doc string (in italics).\n",
    "- The source code (in a collapsible \"Exported source\" block)\n",
    "\n",
    "After that, we generally provide a bit more detail on what we've created, and why, along with a sample usage.\n",
    "\n",
    ":::"
   ]
  },
  {
   "cell_type": "code",
   "execution_count": 13,
   "id": "85784f2a",
   "metadata": {},
   "outputs": [
    {
     "data": {
      "text/plain": [
       "Message(id='msg_01CRQ13Poufq6dUnSiSCDDAG', content=[TextBlock(text=\"It's nice to meet you, Jeremy! I'm Claude, an AI assistant created by Anthropic. How can I assist you today?\", type='text')], model='claude-3-haiku-20240307', role='assistant', stop_reason='end_turn', stop_sequence=None, type='message', usage=Usage(input_tokens=10, output_tokens=32))"
      ]
     },
     "execution_count": 13,
     "metadata": {},
     "output_type": "execute_result"
    }
   ],
   "source": [
    "r"
   ]
  },
  {
   "cell_type": "code",
   "execution_count": 14,
   "id": "4591b579",
   "metadata": {},
   "outputs": [
    {
     "data": {
      "text/plain": [
       "type"
      ]
     },
     "execution_count": 14,
     "metadata": {},
     "output_type": "execute_result"
    }
   ],
   "source": [
    "type(type)"
   ]
  },
  {
   "cell_type": "code",
   "execution_count": 15,
   "id": "eba620ce",
   "metadata": {},
   "outputs": [],
   "source": [
    "#| exports\n",
    "def find_block(r:abc.Mapping, # The message to look in\n",
    "               blk_type:type=TextBlock  # The type of block to find\n",
    "              ):\n",
    "    \"Find the first block of type `blk_type` in `r.content`.\"\n",
    "    return first(o for o in r.content if isinstance(o,blk_type))"
   ]
  },
  {
   "cell_type": "markdown",
   "id": "1fa93ca1",
   "metadata": {},
   "source": [
    "This makes it easier to grab the needed parts of Claude's responses, which can include multiple pieces of content. By default, we look for the first text block. That will generally have the content we want to display."
   ]
  },
  {
   "cell_type": "code",
   "execution_count": 16,
   "id": "4007ed54",
   "metadata": {},
   "outputs": [
    {
     "data": {
      "text/plain": [
       "False"
      ]
     },
     "execution_count": 16,
     "metadata": {},
     "output_type": "execute_result"
    }
   ],
   "source": [
    "type(r) == abc.Mapping"
   ]
  },
  {
   "cell_type": "code",
   "execution_count": 17,
   "id": "45eb56de",
   "metadata": {},
   "outputs": [
    {
     "data": {
      "text/plain": [
       "Message(id='msg_01CRQ13Poufq6dUnSiSCDDAG', content=[TextBlock(text=\"It's nice to meet you, Jeremy! I'm Claude, an AI assistant created by Anthropic. How can I assist you today?\", type='text')], model='claude-3-haiku-20240307', role='assistant', stop_reason='end_turn', stop_sequence=None, type='message', usage=Usage(input_tokens=10, output_tokens=32))"
      ]
     },
     "execution_count": 17,
     "metadata": {},
     "output_type": "execute_result"
    }
   ],
   "source": [
    "r"
   ]
  },
  {
   "cell_type": "code",
   "execution_count": 18,
   "id": "10af0e65",
   "metadata": {},
   "outputs": [
    {
     "data": {
      "text/plain": [
       "TextBlock(text=\"It's nice to meet you, Jeremy! I'm Claude, an AI assistant created by Anthropic. How can I assist you today?\", type='text')"
      ]
     },
     "execution_count": 18,
     "metadata": {},
     "output_type": "execute_result"
    }
   ],
   "source": [
    "find_block(r)"
   ]
  },
  {
   "cell_type": "code",
   "execution_count": 19,
   "id": "5e739da3",
   "metadata": {},
   "outputs": [],
   "source": [
    "blk = find_block(r)"
   ]
  },
  {
   "cell_type": "code",
   "execution_count": 20,
   "id": "4551fd32",
   "metadata": {},
   "outputs": [
    {
     "data": {
      "text/plain": [
       "TextBlock(text=\"It's nice to meet you, Jeremy! I'm Claude, an AI assistant created by Anthropic. How can I assist you today?\", type='text')"
      ]
     },
     "execution_count": 20,
     "metadata": {},
     "output_type": "execute_result"
    }
   ],
   "source": [
    "blk"
   ]
  },
  {
   "cell_type": "code",
   "execution_count": 21,
   "id": "35f6a605",
   "metadata": {},
   "outputs": [
    {
     "data": {
      "text/plain": [
       "\"It's nice to meet you, Jeremy! I'm Claude, an AI assistant created by Anthropic. How can I assist you today?\""
      ]
     },
     "execution_count": 21,
     "metadata": {},
     "output_type": "execute_result"
    }
   ],
   "source": [
    "blk.text"
   ]
  },
  {
   "cell_type": "code",
   "execution_count": 22,
   "id": "ae99799d",
   "metadata": {},
   "outputs": [],
   "source": [
    "#| exports\n",
    "def contents(r):\n",
    "    \"Helper to get the contents from Claude response `r`.\"\n",
    "    blk = find_block(r)\n",
    "    if not blk and r.content: blk = r.content[0]\n",
    "    return blk.text.strip() if hasattr(blk,'text') else blk"
   ]
  },
  {
   "cell_type": "markdown",
   "id": "ffb59427",
   "metadata": {},
   "source": [
    "For display purposes, we often just want to show the text itself."
   ]
  },
  {
   "cell_type": "code",
   "execution_count": 23,
   "id": "6d5f2107",
   "metadata": {},
   "outputs": [
    {
     "data": {
      "text/plain": [
       "\"It's nice to meet you, Jeremy! I'm Claude, an AI assistant created by Anthropic. How can I assist you today?\""
      ]
     },
     "execution_count": 23,
     "metadata": {},
     "output_type": "execute_result"
    }
   ],
   "source": [
    "contents(r)"
   ]
  },
  {
   "cell_type": "code",
   "execution_count": 24,
   "id": "17924d0c",
   "metadata": {},
   "outputs": [],
   "source": [
    "#| exports\n",
    "@patch\n",
    "def _repr_markdown_(self:(Message)):\n",
    "    det = '\\n- '.join(f'{k}: {v}' for k,v in self.model_dump().items())\n",
    "    return f\"\"\"{contents(self)}\n",
    "\n",
    "<details>\n",
    "\n",
    "- {det}\n",
    "\n",
    "</details>\"\"\""
   ]
  },
  {
   "cell_type": "markdown",
   "id": "3764d112",
   "metadata": {},
   "source": [
    "Jupyter looks for a `_repr_markdown_` method in displayed objects; we add this in order to display just the content text, and collapse full details into a hideable section. Note that `patch` is from [fastcore](https://fastcore.fast.ai/), and is used to add (or replace) functionality in an existing class. We pass the class(es) that we want to patch as type annotations to `self`. In this case, `_repr_markdown_` is being added to Anthropic's `Message` class, so when we display the message now we just see the contents, and the details are hidden away in a collapsible details block."
   ]
  },
  {
   "cell_type": "code",
   "execution_count": 25,
   "id": "cfd85eeb",
   "metadata": {},
   "outputs": [
    {
     "data": {
      "text/markdown": [
       "It's nice to meet you, Jeremy! I'm Claude, an AI assistant created by Anthropic. How can I assist you today?\n",
       "\n",
       "<details>\n",
       "\n",
       "- id: msg_01CRQ13Poufq6dUnSiSCDDAG\n",
       "- content: [{'text': \"It's nice to meet you, Jeremy! I'm Claude, an AI assistant created by Anthropic. How can I assist you today?\", 'type': 'text'}]\n",
       "- model: claude-3-haiku-20240307\n",
       "- role: assistant\n",
       "- stop_reason: end_turn\n",
       "- stop_sequence: None\n",
       "- type: message\n",
       "- usage: {'input_tokens': 10, 'output_tokens': 32}\n",
       "\n",
       "</details>"
      ],
      "text/plain": [
       "Message(id='msg_01CRQ13Poufq6dUnSiSCDDAG', content=[TextBlock(text=\"It's nice to meet you, Jeremy! I'm Claude, an AI assistant created by Anthropic. How can I assist you today?\", type='text')], model='claude-3-haiku-20240307', role='assistant', stop_reason='end_turn', stop_sequence=None, type='message', usage=Usage(input_tokens=10, output_tokens=32))"
      ]
     },
     "execution_count": 25,
     "metadata": {},
     "output_type": "execute_result"
    }
   ],
   "source": [
    "r"
   ]
  },
  {
   "cell_type": "markdown",
   "id": "8615447e",
   "metadata": {},
   "source": [
    "One key part of the response is the `usage` key, which tells us how many tokens we used by returning a `Usage` object.\n",
    "\n",
    "We'll add some helpers to make things a bit cleaner for creating and formatting these objects."
   ]
  },
  {
   "cell_type": "code",
   "execution_count": 26,
   "id": "10c7466f",
   "metadata": {},
   "outputs": [
    {
     "data": {
      "text/plain": [
       "Usage(input_tokens=10, output_tokens=32)"
      ]
     },
     "execution_count": 26,
     "metadata": {},
     "output_type": "execute_result"
    }
   ],
   "source": [
    "r.usage"
   ]
  },
  {
   "cell_type": "code",
   "execution_count": 27,
   "id": "b1a24f68",
   "metadata": {},
   "outputs": [],
   "source": [
    "#| exports\n",
    "def usage(inp=0, # Number of input tokens\n",
    "          out=0  # Number of output tokens\n",
    "         ):\n",
    "    \"Slightly more concise version of `Usage`.\"\n",
    "    return Usage(input_tokens=inp, output_tokens=out)"
   ]
  },
  {
   "cell_type": "markdown",
   "id": "2184ec7f",
   "metadata": {},
   "source": [
    "The constructor provided by Anthropic is rather verbose, so we clean it up a bit, using a lowercase version of the name."
   ]
  },
  {
   "cell_type": "code",
   "execution_count": 28,
   "id": "a7e52afd",
   "metadata": {},
   "outputs": [
    {
     "data": {
      "text/plain": [
       "Usage(input_tokens=5, output_tokens=0)"
      ]
     },
     "execution_count": 28,
     "metadata": {},
     "output_type": "execute_result"
    }
   ],
   "source": [
    "usage(5)"
   ]
  },
  {
   "cell_type": "code",
   "execution_count": 29,
   "id": "2db64da5",
   "metadata": {},
   "outputs": [],
   "source": [
    "#| exports\n",
    "@patch(as_prop=True)\n",
    "def total(self:Usage): return self.input_tokens+self.output_tokens"
   ]
  },
  {
   "cell_type": "markdown",
   "id": "5363afa4",
   "metadata": {},
   "source": [
    "Adding a `total` property to `Usage` makes it easier to see how many tokens we've used up altogether."
   ]
  },
  {
   "cell_type": "code",
   "execution_count": 30,
   "id": "74553203",
   "metadata": {},
   "outputs": [
    {
     "data": {
      "text/plain": [
       "6"
      ]
     },
     "execution_count": 30,
     "metadata": {},
     "output_type": "execute_result"
    }
   ],
   "source": [
    "usage(5,1).total"
   ]
  },
  {
   "cell_type": "code",
   "execution_count": 31,
   "id": "27468180",
   "metadata": {},
   "outputs": [],
   "source": [
    "#| exports\n",
    "@patch\n",
    "def __repr__(self:Usage): return f'In: {self.input_tokens}; Out: {self.output_tokens}; Total: {self.total}'"
   ]
  },
  {
   "cell_type": "markdown",
   "id": "dbbf7024",
   "metadata": {},
   "source": [
    "In python, patching `__repr__` lets us change how an object is displayed. (More generally, methods starting and ending in `__` in Python are called `dunder` methods, and have some `magic` behavior -- such as, in this case, changing how an object is displayed.)"
   ]
  },
  {
   "cell_type": "code",
   "execution_count": 32,
   "id": "765ca615",
   "metadata": {},
   "outputs": [
    {
     "data": {
      "text/plain": [
       "In: 10; Out: 32; Total: 42"
      ]
     },
     "execution_count": 32,
     "metadata": {},
     "output_type": "execute_result"
    }
   ],
   "source": [
    "r.usage"
   ]
  },
  {
   "cell_type": "code",
   "execution_count": 33,
   "id": "bec303ba",
   "metadata": {},
   "outputs": [],
   "source": [
    "#| exports\n",
    "@patch\n",
    "def __add__(self:Usage, b):\n",
    "    \"Add together each of `input_tokens` and `output_tokens`\"\n",
    "    return usage(self.input_tokens+b.input_tokens, self.output_tokens+b.output_tokens)"
   ]
  },
  {
   "cell_type": "markdown",
   "id": "81d64102",
   "metadata": {},
   "source": [
    "And, patching `__add__` lets `+` work on a `Usage` object."
   ]
  },
  {
   "cell_type": "code",
   "execution_count": 34,
   "id": "bffb0b2e",
   "metadata": {},
   "outputs": [
    {
     "data": {
      "text/plain": [
       "In: 20; Out: 64; Total: 84"
      ]
     },
     "execution_count": 34,
     "metadata": {},
     "output_type": "execute_result"
    }
   ],
   "source": [
    "r.usage+r.usage"
   ]
  },
  {
   "cell_type": "markdown",
   "id": "edd0a43f",
   "metadata": {},
   "source": [
    "### Creating messages"
   ]
  },
  {
   "cell_type": "markdown",
   "id": "36c9755d",
   "metadata": {},
   "source": [
    "Creating correctly formatted `dict`s from scratch every time isn't very handy, so next up we'll add helpers for this."
   ]
  },
  {
   "cell_type": "code",
   "execution_count": 35,
   "id": "4f3e4de9",
   "metadata": {},
   "outputs": [],
   "source": [
    "def mk_msg(content, role='user', **kw):\n",
    "    return dict(role=role, content=content, **kw)"
   ]
  },
  {
   "cell_type": "markdown",
   "id": "1a76545a",
   "metadata": {},
   "source": [
    "We make things a bit more convenient by writing a function to create a message for us."
   ]
  },
  {
   "cell_type": "markdown",
   "id": "bf331696",
   "metadata": {},
   "source": [
    ":::{.callout-note}\n",
    "\n",
    "You may have noticed that we didn't export the `mk_msg` function (i.e. there's no \"Exported source\" block around it). That's because we'll need more functionality in our final version than this version has -- so we'll be defining a more complete version later. Rather than refactoring/editing in notebooks, often it's helpful to simply gradually build up complexity by re-defining a symbol.\n",
    "\n",
    ":::"
   ]
  },
  {
   "cell_type": "code",
   "execution_count": 36,
   "id": "28542783",
   "metadata": {},
   "outputs": [
    {
     "data": {
      "text/plain": [
       "{'role': 'user', 'content': \"I'm Jeremy\"}"
      ]
     },
     "execution_count": 36,
     "metadata": {},
     "output_type": "execute_result"
    }
   ],
   "source": [
    "prompt = \"I'm Jeremy\"\n",
    "m = mk_msg(prompt)\n",
    "m"
   ]
  },
  {
   "cell_type": "code",
   "execution_count": 37,
   "id": "9ba165ff",
   "metadata": {},
   "outputs": [
    {
     "data": {
      "text/markdown": [
       "Nice to meet you, Jeremy! I'm glad we've connected. As an AI assistant, I'm here to help you with a variety of tasks and topics. Please let me know if there's anything I can assist you with.\n",
       "\n",
       "<details>\n",
       "\n",
       "- id: msg_01XXyY8EzSMHvSNv7wEoYbcE\n",
       "- content: [{'text': \"Nice to meet you, Jeremy! I'm glad we've connected. As an AI assistant, I'm here to help you with a variety of tasks and topics. Please let me know if there's anything I can assist you with.\", 'type': 'text'}]\n",
       "- model: claude-3-haiku-20240307\n",
       "- role: assistant\n",
       "- stop_reason: end_turn\n",
       "- stop_sequence: None\n",
       "- type: message\n",
       "- usage: {'input_tokens': 10, 'output_tokens': 50}\n",
       "\n",
       "</details>"
      ],
      "text/plain": [
       "Message(id='msg_01XXyY8EzSMHvSNv7wEoYbcE', content=[TextBlock(text=\"Nice to meet you, Jeremy! I'm glad we've connected. As an AI assistant, I'm here to help you with a variety of tasks and topics. Please let me know if there's anything I can assist you with.\", type='text')], model='claude-3-haiku-20240307', role='assistant', stop_reason='end_turn', stop_sequence=None, type='message', usage=In: 10; Out: 50; Total: 60)"
      ]
     },
     "execution_count": 37,
     "metadata": {},
     "output_type": "execute_result"
    }
   ],
   "source": [
    "r = cli.messages.create(messages=[m], model=model, max_tokens=100)\n",
    "r"
   ]
  },
  {
   "cell_type": "code",
   "execution_count": 38,
   "id": "8cfb240d",
   "metadata": {},
   "outputs": [],
   "source": [
    "#| exports\n",
    "def mk_msgs(msgs:list, **kw):\n",
    "    \"Helper to set 'assistant' role on alternate messages.\"\n",
    "    if isinstance(msgs,str): msgs=[msgs]\n",
    "    return [mk_msg(o, ('user','assistant')[i%2], **kw) for i,o in enumerate(msgs)]"
   ]
  },
  {
   "cell_type": "markdown",
   "id": "423b5739",
   "metadata": {},
   "source": [
    "LLMs, including Claude, don't actually have state, but instead dialogs are created by passing back all previous prompts and responses every time. With Claude, they always alternate *user* and *assistant*. Therefore we create a function to make it easier to build up these dialog lists.\n",
    "\n",
    "But to do so, we need to update `mk_msg` so that we can't only pass a `str` as `content`, but can also pass a `dict` or an object with a `content` attr, since these are both types of message that Claude can create. To do so, we check for a `content` key or attr, and use it if found."
   ]
  },
  {
   "cell_type": "code",
   "execution_count": 39,
   "id": "8ab553a4",
   "metadata": {},
   "outputs": [],
   "source": [
    "def mk_msg(content, role='user', **kw):\n",
    "    \"Helper to create a `dict` appropriate for a Claude message. `kw` are added as key/value pairs to the message\"\n",
    "    if hasattr(content, 'content'): content,role = content.content,content.role\n",
    "    if isinstance(content, abc.Mapping): content=content['content']\n",
    "    return dict(role=role, content=content, **kw)"
   ]
  },
  {
   "cell_type": "code",
   "execution_count": 40,
   "id": "7eef3715",
   "metadata": {},
   "outputs": [
    {
     "data": {
      "text/plain": [
       "[{'role': 'user', 'content': \"I'm Jeremy\"},\n",
       " {'role': 'assistant',\n",
       "  'content': [TextBlock(text=\"Nice to meet you, Jeremy! I'm glad we've connected. As an AI assistant, I'm here to help you with a variety of tasks and topics. Please let me know if there's anything I can assist you with.\", type='text')]},\n",
       " {'role': 'user', 'content': 'I forgot my name. Can you remind me please?'}]"
      ]
     },
     "execution_count": 40,
     "metadata": {},
     "output_type": "execute_result"
    }
   ],
   "source": [
    "msgs = mk_msgs([prompt, r, 'I forgot my name. Can you remind me please?'])\n",
    "msgs"
   ]
  },
  {
   "cell_type": "markdown",
   "id": "9ddf95e1",
   "metadata": {},
   "source": [
    "Now, if we pass this list of messages to Claude, the model treats it as a conversation to respond to."
   ]
  },
  {
   "cell_type": "code",
   "execution_count": 41,
   "id": "6c464f8b",
   "metadata": {},
   "outputs": [
    {
     "data": {
      "text/markdown": [
       "I'm afraid I don't actually know your name. When you introduced yourself earlier, you said your name was Jeremy. But if you've forgotten your name, I can't remind you of something I don't know. Is there anything else I can try to help you with?\n",
       "\n",
       "<details>\n",
       "\n",
       "- id: msg_01FHgUjp1B13fimsBC7K2jMq\n",
       "- content: [{'text': \"I'm afraid I don't actually know your name. When you introduced yourself earlier, you said your name was Jeremy. But if you've forgotten your name, I can't remind you of something I don't know. Is there anything else I can try to help you with?\", 'type': 'text'}]\n",
       "- model: claude-3-haiku-20240307\n",
       "- role: assistant\n",
       "- stop_reason: end_turn\n",
       "- stop_sequence: None\n",
       "- type: message\n",
       "- usage: {'input_tokens': 74, 'output_tokens': 59}\n",
       "\n",
       "</details>"
      ],
      "text/plain": [
       "Message(id='msg_01FHgUjp1B13fimsBC7K2jMq', content=[TextBlock(text=\"I'm afraid I don't actually know your name. When you introduced yourself earlier, you said your name was Jeremy. But if you've forgotten your name, I can't remind you of something I don't know. Is there anything else I can try to help you with?\", type='text')], model='claude-3-haiku-20240307', role='assistant', stop_reason='end_turn', stop_sequence=None, type='message', usage=In: 74; Out: 59; Total: 133)"
      ]
     },
     "execution_count": 41,
     "metadata": {},
     "output_type": "execute_result"
    }
   ],
   "source": [
    "cli.messages.create(messages=msgs, model=model, max_tokens=200)"
   ]
  },
  {
   "cell_type": "markdown",
   "id": "281f8a4d",
   "metadata": {},
   "source": [
    "## Client"
   ]
  },
  {
   "cell_type": "code",
   "execution_count": 42,
   "id": "3b873aaf",
   "metadata": {},
   "outputs": [],
   "source": [
    "#| exports\n",
    "class Client:\n",
    "    def __init__(self, model, cli=None):\n",
    "        \"Basic Anthropic messages client.\"\n",
    "        self.model,self.use = model,usage()\n",
    "        self.c = (cli or Anthropic())"
   ]
  },
  {
   "cell_type": "markdown",
   "id": "146e39f0",
   "metadata": {},
   "source": [
    "We'll create a simple `Client` for `Anthropic` which tracks usage stores the model to use. We don't add any methods right away -- instead we'll use `patch` for that so we can add and document them incrementally."
   ]
  },
  {
   "cell_type": "code",
   "execution_count": 43,
   "id": "d01e9ccf",
   "metadata": {},
   "outputs": [
    {
     "data": {
      "text/plain": [
       "In: 0; Out: 0; Total: 0"
      ]
     },
     "execution_count": 43,
     "metadata": {},
     "output_type": "execute_result"
    }
   ],
   "source": [
    "c = Client(model)\n",
    "c.use"
   ]
  },
  {
   "cell_type": "code",
   "execution_count": 44,
   "id": "be54737f",
   "metadata": {},
   "outputs": [],
   "source": [
    "#| exports\n",
    "@patch\n",
    "def _r(self:Client, r:Message, prefill=''):\n",
    "    \"Store the result of the message and accrue total usage.\"\n",
    "    if prefill:\n",
    "        blk = find_block(r)\n",
    "        blk.text = prefill + (blk.text or '')\n",
    "    self.result = r\n",
    "    self.use += r.usage\n",
    "    return r"
   ]
  },
  {
   "cell_type": "markdown",
   "id": "68d2eb9b",
   "metadata": {},
   "source": [
    "We use a `_` prefix on private methods, but we document them here in the interests of literate source code.\n",
    "\n",
    "`_r` will be used each time we get a new result, to track usage and also to keep the result available for later."
   ]
  },
  {
   "cell_type": "code",
   "execution_count": 45,
   "id": "0181f7b3",
   "metadata": {},
   "outputs": [
    {
     "data": {
      "text/plain": [
       "In: 10; Out: 50; Total: 60"
      ]
     },
     "execution_count": 45,
     "metadata": {},
     "output_type": "execute_result"
    }
   ],
   "source": [
    "c._r(r)\n",
    "c.use"
   ]
  },
  {
   "cell_type": "markdown",
   "id": "7258fd6e",
   "metadata": {},
   "source": [
    "Whereas OpenAI's models use a `stream` parameter for streaming, Anthropic's use a separate method. We implement Anthropic's approach in a private method, and then use a `stream` parameter in `__call__` for consistency:"
   ]
  },
  {
   "cell_type": "code",
   "execution_count": 46,
   "id": "6520a355",
   "metadata": {},
   "outputs": [],
   "source": [
    "#| exports\n",
    "@patch\n",
    "def _stream(self:Client, msgs:list, prefill='', **kwargs):\n",
    "    with self.c.messages.stream(model=self.model, messages=mk_msgs(msgs), **kwargs) as s:\n",
    "        if prefill: yield(prefill)\n",
    "        yield from s.text_stream\n",
    "        self._r(s.get_final_message(), prefill)"
   ]
  },
  {
   "cell_type": "markdown",
   "id": "f2269e53",
   "metadata": {},
   "source": [
    "Claude supports adding an extra `assistant` message at the end, which contains the *prefill* -- i.e. the text we want Claude to assume the response starts with. However Claude doesn't actually repeat that in the response, so for convenience we add it."
   ]
  },
  {
   "cell_type": "code",
   "execution_count": 47,
   "id": "5fb96c43",
   "metadata": {},
   "outputs": [],
   "source": [
    "#| exports\n",
    "@patch\n",
    "@delegates(messages.Messages.create)\n",
    "def __call__(self:Client,\n",
    "             msgs:list, # List of messages in the dialog\n",
    "             sp='', # The system prompt\n",
    "             temp=0, # Temperature\n",
    "             maxtok=4096, # Maximum tokens\n",
    "             prefill='', # Optional prefill to pass to Claude as start of its response\n",
    "             stream:bool=False, # Stream response?\n",
    "             **kwargs):\n",
    "    \"Make a call to Claude.\"\n",
    "    pref = [prefill.strip()] if prefill else []\n",
    "    if not isinstance(msgs,list): msgs = [msgs]\n",
    "    msgs = mk_msgs(msgs+pref)\n",
    "    if stream: return self._stream(msgs, prefill=prefill, max_tokens=maxtok, system=sp, temperature=temp, **kwargs)\n",
    "    res = self.c.messages.create(\n",
    "        model=self.model, messages=msgs, max_tokens=maxtok, system=sp, temperature=temp, **kwargs)\n",
    "    self._r(res, prefill)\n",
    "    return self.result"
   ]
  },
  {
   "cell_type": "markdown",
   "id": "3cee10c8",
   "metadata": {},
   "source": [
    "Defining `__call__` let's us use an object like a function (i.e it's *callable*). We use it as a small wrapper over `messages.create`."
   ]
  },
  {
   "cell_type": "code",
   "execution_count": 48,
   "id": "881b5e78",
   "metadata": {},
   "outputs": [
    {
     "data": {
      "text/plain": [
       "In: 0; Out: 0; Total: 0"
      ]
     },
     "execution_count": 48,
     "metadata": {},
     "output_type": "execute_result"
    }
   ],
   "source": [
    "c = Client(model)\n",
    "c.use"
   ]
  },
  {
   "cell_type": "code",
   "execution_count": 49,
   "id": "db7c3f7a",
   "metadata": {},
   "outputs": [],
   "source": [
    "c.model = models[-1]"
   ]
  },
  {
   "cell_type": "code",
   "execution_count": 50,
   "id": "338a38e5",
   "metadata": {},
   "outputs": [
    {
     "data": {
      "text/markdown": [
       "Hello! How can I assist you today?\n",
       "\n",
       "<details>\n",
       "\n",
       "- id: msg_01NYPFRahCLq3oMtSJcPmeDa\n",
       "- content: [{'text': 'Hello! How can I assist you today?', 'type': 'text'}]\n",
       "- model: claude-3-haiku-20240307\n",
       "- role: assistant\n",
       "- stop_reason: end_turn\n",
       "- stop_sequence: None\n",
       "- type: message\n",
       "- usage: {'input_tokens': 8, 'output_tokens': 12}\n",
       "\n",
       "</details>"
      ],
      "text/plain": [
       "Message(id='msg_01NYPFRahCLq3oMtSJcPmeDa', content=[TextBlock(text='Hello! How can I assist you today?', type='text')], model='claude-3-haiku-20240307', role='assistant', stop_reason='end_turn', stop_sequence=None, type='message', usage=In: 8; Out: 12; Total: 20)"
      ]
     },
     "execution_count": 50,
     "metadata": {},
     "output_type": "execute_result"
    }
   ],
   "source": [
    "c('Hi')"
   ]
  },
  {
   "cell_type": "code",
   "execution_count": 51,
   "id": "ae9f7e06",
   "metadata": {},
   "outputs": [
    {
     "data": {
      "text/plain": [
       "In: 8; Out: 12; Total: 20"
      ]
     },
     "execution_count": 51,
     "metadata": {},
     "output_type": "execute_result"
    }
   ],
   "source": [
    "c.use"
   ]
  },
  {
   "cell_type": "markdown",
   "id": "2d269ed8",
   "metadata": {},
   "source": [
    "Let's try out *prefill*:"
   ]
  },
  {
   "cell_type": "code",
   "execution_count": 52,
   "id": "7f479429",
   "metadata": {},
   "outputs": [],
   "source": [
    "q = \"Concisely, what is the meaning of life?\"\n",
    "pref = 'According to Douglas Adams,'"
   ]
  },
  {
   "cell_type": "code",
   "execution_count": 53,
   "id": "b831ca3d",
   "metadata": {},
   "outputs": [
    {
     "data": {
      "text/markdown": [
       "According to Douglas Adams,  \"The answer to the ultimate question of life, the universe, and everything is 42.\"\n",
       "\n",
       "<details>\n",
       "\n",
       "- id: msg_01B6CTckLjEzYtciKfPziCxD\n",
       "- content: [{'text': 'According to Douglas Adams,  \"The answer to the ultimate question of life, the universe, and everything is 42.\"', 'type': 'text'}]\n",
       "- model: claude-3-haiku-20240307\n",
       "- role: assistant\n",
       "- stop_reason: end_turn\n",
       "- stop_sequence: None\n",
       "- type: message\n",
       "- usage: {'input_tokens': 24, 'output_tokens': 23}\n",
       "\n",
       "</details>"
      ],
      "text/plain": [
       "Message(id='msg_01B6CTckLjEzYtciKfPziCxD', content=[TextBlock(text='According to Douglas Adams,  \"The answer to the ultimate question of life, the universe, and everything is 42.\"', type='text')], model='claude-3-haiku-20240307', role='assistant', stop_reason='end_turn', stop_sequence=None, type='message', usage=In: 24; Out: 23; Total: 47)"
      ]
     },
     "execution_count": 53,
     "metadata": {},
     "output_type": "execute_result"
    }
   ],
   "source": [
    "c(q, prefill=pref)"
   ]
  },
  {
   "cell_type": "markdown",
   "id": "216b2704",
   "metadata": {},
   "source": [
    "We can pass `stream=True` to stream the response back incrementally:"
   ]
  },
  {
   "cell_type": "code",
   "execution_count": 54,
   "id": "e281399f",
   "metadata": {},
   "outputs": [
    {
     "name": "stdout",
     "output_type": "stream",
     "text": [
      "Hello! How can I assist you today?"
     ]
    }
   ],
   "source": [
    "for o in c('Hi', stream=True): print(o, end='')"
   ]
  },
  {
   "cell_type": "code",
   "execution_count": 55,
   "id": "beb25f2a",
   "metadata": {},
   "outputs": [
    {
     "data": {
      "text/plain": [
       "In: 40; Out: 47; Total: 87"
      ]
     },
     "execution_count": 55,
     "metadata": {},
     "output_type": "execute_result"
    }
   ],
   "source": [
    "c.use"
   ]
  },
  {
   "cell_type": "code",
   "execution_count": 56,
   "id": "db1c75ef",
   "metadata": {},
   "outputs": [
    {
     "name": "stdout",
     "output_type": "stream",
     "text": [
      "According to Douglas Adams,  \"The answer to the ultimate question of life, the universe, and everything is 42.\""
     ]
    }
   ],
   "source": [
    "for o in c(q, prefill=pref, stream=True): print(o, end='')"
   ]
  },
  {
   "cell_type": "code",
   "execution_count": 57,
   "id": "e36eddc9",
   "metadata": {},
   "outputs": [
    {
     "data": {
      "text/plain": [
       "In: 64; Out: 70; Total: 134"
      ]
     },
     "execution_count": 57,
     "metadata": {},
     "output_type": "execute_result"
    }
   ],
   "source": [
    "c.use"
   ]
  },
  {
   "cell_type": "markdown",
   "id": "1a7cdbc6",
   "metadata": {},
   "source": [
    "## Tool use"
   ]
  },
  {
   "cell_type": "markdown",
   "id": "65700cb3",
   "metadata": {},
   "source": [
    "Let's now add tool use (aka *function calling*)."
   ]
  },
  {
   "cell_type": "code",
   "execution_count": 58,
   "id": "01e3e2af",
   "metadata": {},
   "outputs": [],
   "source": [
    "#| exports\n",
    "def mk_tool_choice(choose:Union[str,bool,None])->dict:\n",
    "    \"Create a `tool_choice` dict that's 'auto' if `choose` is `None`, 'any' if it is True, or 'tool' otherwise\"\n",
    "    return {\"type\": \"tool\", \"name\": choose} if isinstance(choose,str) else {'type':'any'} if choose else {'type':'auto'}"
   ]
  },
  {
   "cell_type": "code",
   "execution_count": 59,
   "id": "753c4cd5",
   "metadata": {},
   "outputs": [
    {
     "name": "stdout",
     "output_type": "stream",
     "text": [
      "{'type': 'tool', 'name': 'sums'}\n",
      "{'type': 'any'}\n",
      "{'type': 'auto'}\n"
     ]
    }
   ],
   "source": [
    "print(mk_tool_choice('sums'))\n",
    "print(mk_tool_choice(True))\n",
    "print(mk_tool_choice(None))"
   ]
  },
  {
   "cell_type": "markdown",
   "id": "0d72ea0d",
   "metadata": {},
   "source": [
    "Claude can be forced to use a particular tool, or select from a specific list of tools, or decide for itself when to use a tool. If you want to force a tool (or force choosing from a list), include a `tool_choice` param with a dict from `mk_tool_choice`.\n",
    "\n",
    "For testing, we need a function that Claude can call; we'll write a simple function that adds numbers together, and will tell us when it's being called:"
   ]
  },
  {
   "cell_type": "code",
   "execution_count": 60,
   "id": "046e8cc3",
   "metadata": {},
   "outputs": [],
   "source": [
    "def sums(\n",
    "    a:int,  # First thing to sum\n",
    "    b:int=1 # Second thing to sum\n",
    ") -> int: # The sum of the inputs\n",
    "    \"Adds a + b.\"\n",
    "    print(f\"Finding the sum of {a} and {b}\")\n",
    "    return a + b"
   ]
  },
  {
   "cell_type": "code",
   "execution_count": 61,
   "id": "d51f2bdf",
   "metadata": {},
   "outputs": [],
   "source": [
    "a,b = 604542,6458932\n",
    "pr = f\"What is {a}+{b}?\"\n",
    "sp = \"You are a summing expert.\""
   ]
  },
  {
   "cell_type": "markdown",
   "id": "3dc3ffd6",
   "metadata": {},
   "source": [
    "Claudette can autogenerate a schema thanks to the `toolslm` library. We'll force the use of the tool using the function we created earlier."
   ]
  },
  {
   "cell_type": "code",
   "execution_count": 62,
   "id": "bff81d52",
   "metadata": {},
   "outputs": [],
   "source": [
    "tools=[get_schema(sums)]\n",
    "choice = mk_tool_choice('sums')"
   ]
  },
  {
   "cell_type": "markdown",
   "id": "91937f47",
   "metadata": {},
   "source": [
    "We'll start a dialog with Claude now. We'll store the messages of our dialog in `msgs`. The first message will be our prompt `pr`, and we'll pass our `tools` schema."
   ]
  },
  {
   "cell_type": "code",
   "execution_count": 63,
   "id": "c2ceeb75",
   "metadata": {},
   "outputs": [
    {
     "data": {
      "text/markdown": [
       "ToolUseBlock(id='toolu_01M42NRewzvy1GBkXBTPJWFp', input={'a': 604542, 'b': 6458932}, name='sums', type='tool_use')\n",
       "\n",
       "<details>\n",
       "\n",
       "- id: msg_01NYhC9rUCVdoprag3zsHuv9\n",
       "- content: [{'id': 'toolu_01M42NRewzvy1GBkXBTPJWFp', 'input': {'a': 604542, 'b': 6458932}, 'name': 'sums', 'type': 'tool_use'}]\n",
       "- model: claude-3-haiku-20240307\n",
       "- role: assistant\n",
       "- stop_reason: tool_use\n",
       "- stop_sequence: None\n",
       "- type: message\n",
       "- usage: {'input_tokens': 493, 'output_tokens': 53}\n",
       "\n",
       "</details>"
      ],
      "text/plain": [
       "Message(id='msg_01NYhC9rUCVdoprag3zsHuv9', content=[ToolUseBlock(id='toolu_01M42NRewzvy1GBkXBTPJWFp', input={'a': 604542, 'b': 6458932}, name='sums', type='tool_use')], model='claude-3-haiku-20240307', role='assistant', stop_reason='tool_use', stop_sequence=None, type='message', usage=In: 493; Out: 53; Total: 546)"
      ]
     },
     "execution_count": 63,
     "metadata": {},
     "output_type": "execute_result"
    }
   ],
   "source": [
    "msgs = mk_msgs(pr)\n",
    "r = c(msgs, sp=sp, tools=tools, tool_choice=choice)\n",
    "r"
   ]
  },
  {
   "cell_type": "markdown",
   "id": "60a2fce0",
   "metadata": {},
   "source": [
    "When Claude decides that it should use a tool, it passes back a `ToolUseBlock` with the name of the tool to call, and the params to use.\n",
    "\n",
    "We don't want to allow it to call just any possible function (that would be a security disaster!) so we create a *namespace* -- that is, a dictionary of allowable function names to call."
   ]
  },
  {
   "cell_type": "code",
   "execution_count": 64,
   "id": "5ce1b859",
   "metadata": {},
   "outputs": [],
   "source": [
    "#| exports\n",
    "def _mk_ns(*funcs:list[callable]) -> dict[str,callable]:\n",
    "    \"Create a `dict` of name to function in `funcs`, to use as a namespace\"\n",
    "    return {f.__name__:f for f in funcs}"
   ]
  },
  {
   "cell_type": "code",
   "execution_count": 65,
   "id": "4fb9826f",
   "metadata": {},
   "outputs": [
    {
     "data": {
      "text/plain": [
       "{'sums': <function __main__.sums(a: int, b: int = 1) -> int>}"
      ]
     },
     "execution_count": 65,
     "metadata": {},
     "output_type": "execute_result"
    }
   ],
   "source": [
    "ns = _mk_ns(sums)\n",
    "ns"
   ]
  },
  {
   "cell_type": "code",
   "execution_count": 66,
   "id": "5a7728ff",
   "metadata": {},
   "outputs": [],
   "source": [
    "#| exports\n",
    "def call_func(fc:ToolUseBlock, # Tool use block from Claude's message\n",
    "              ns:Optional[abc.Mapping]=None, # Namespace to search for tools, defaults to `globals()`\n",
    "              obj:Optional=None # Object to search for tools\n",
    "             ):\n",
    "    \"Call the function in the tool response `tr`, using namespace `ns`.\"\n",
    "    if ns is None: ns=globals()\n",
    "    if not isinstance(ns, abc.Mapping): ns = _mk_ns(*ns)\n",
    "    func = getattr(obj, fc.name, None)\n",
    "    if not func: func = ns[fc.name]\n",
    "    res = func(**fc.input)\n",
    "    return dict(type=\"tool_result\", tool_use_id=fc.id, content=str(res))    "
   ]
  },
  {
   "cell_type": "markdown",
   "id": "3d1f23eb",
   "metadata": {},
   "source": [
    "We can now use the function requested by Claude. We look it up in `ns`, and pass in the provided parameters."
   ]
  },
  {
   "cell_type": "code",
   "execution_count": 67,
   "id": "893f81ca",
   "metadata": {},
   "outputs": [
    {
     "name": "stdout",
     "output_type": "stream",
     "text": [
      "Finding the sum of 604542 and 6458932\n"
     ]
    },
    {
     "data": {
      "text/plain": [
       "{'type': 'tool_result',\n",
       " 'tool_use_id': 'toolu_01M42NRewzvy1GBkXBTPJWFp',\n",
       " 'content': '7063474'}"
      ]
     },
     "execution_count": 67,
     "metadata": {},
     "output_type": "execute_result"
    }
   ],
   "source": [
    "fc = find_block(r, ToolUseBlock)\n",
    "res = call_func(fc, ns=ns)\n",
    "res"
   ]
  },
  {
   "cell_type": "code",
   "execution_count": 68,
   "id": "d475922d",
   "metadata": {},
   "outputs": [],
   "source": [
    "#| exports\n",
    "def mk_toolres(\n",
    "    r:abc.Mapping, # Tool use request response from Claude\n",
    "    ns:Optional[abc.Mapping]=None, # Namespace to search for tools\n",
    "    obj:Optional=None # Class to search for tools\n",
    "    ):\n",
    "    \"Create a `tool_result` message from response `r`.\"\n",
    "    cts = getattr(r, 'content', [])\n",
    "    res = [mk_msg(r)]\n",
    "    tcs = [call_func(o, ns=ns, obj=obj) for o in cts if isinstance(o,ToolUseBlock)]\n",
    "    if tcs: res.append(mk_msg(tcs))\n",
    "    return res"
   ]
  },
  {
   "cell_type": "markdown",
   "id": "5a57d1ca",
   "metadata": {},
   "source": [
    "In order to tell Claude the result of the tool call, we pass back the tool use assistant request and the `tool_result` response."
   ]
  },
  {
   "cell_type": "code",
   "execution_count": 69,
   "id": "f13de1fc",
   "metadata": {},
   "outputs": [
    {
     "name": "stdout",
     "output_type": "stream",
     "text": [
      "Finding the sum of 604542 and 6458932\n"
     ]
    },
    {
     "data": {
      "text/plain": [
       "[{'role': 'assistant',\n",
       "  'content': [ToolUseBlock(id='toolu_01M42NRewzvy1GBkXBTPJWFp', input={'a': 604542, 'b': 6458932}, name='sums', type='tool_use')]},\n",
       " {'role': 'user',\n",
       "  'content': [{'type': 'tool_result',\n",
       "    'tool_use_id': 'toolu_01M42NRewzvy1GBkXBTPJWFp',\n",
       "    'content': '7063474'}]}]"
      ]
     },
     "execution_count": 69,
     "metadata": {},
     "output_type": "execute_result"
    }
   ],
   "source": [
    "tr = mk_toolres(r, ns=ns)\n",
    "tr"
   ]
  },
  {
   "cell_type": "markdown",
   "id": "faf4fe37",
   "metadata": {},
   "source": [
    "We add this to our dialog, and now Claude has all the information it needs to answer our question."
   ]
  },
  {
   "cell_type": "code",
   "execution_count": 70,
   "id": "eed99502",
   "metadata": {},
   "outputs": [
    {
     "data": {
      "text/plain": [
       "'The sum of 604542 and 6458932 is 7063474.'"
      ]
     },
     "execution_count": 70,
     "metadata": {},
     "output_type": "execute_result"
    }
   ],
   "source": [
    "msgs += tr\n",
    "contents(c(msgs, sp=sp, tools=tools))"
   ]
  },
  {
   "cell_type": "markdown",
   "id": "f2a3dc3c",
   "metadata": {},
   "source": [
    "This works with methods as well -- in this case, use the object itself for `ns`:"
   ]
  },
  {
   "cell_type": "code",
   "execution_count": 71,
   "id": "800a53a9",
   "metadata": {},
   "outputs": [],
   "source": [
    "class Dummy:\n",
    "    def sums(\n",
    "        self,\n",
    "        a:int,  # First thing to sum\n",
    "        b:int=1 # Second thing to sum\n",
    "    ) -> int: # The sum of the inputs\n",
    "        \"Adds a + b.\"\n",
    "        print(f\"Finding the sum of {a} and {b}\")\n",
    "        return a + b"
   ]
  },
  {
   "cell_type": "code",
   "execution_count": 72,
   "id": "b21e6290",
   "metadata": {},
   "outputs": [
    {
     "name": "stdout",
     "output_type": "stream",
     "text": [
      "Finding the sum of 604542 and 6458932\n"
     ]
    },
    {
     "data": {
      "text/plain": [
       "'The sum of 604542 and 6458932 is 7063474.'"
      ]
     },
     "execution_count": 72,
     "metadata": {},
     "output_type": "execute_result"
    }
   ],
   "source": [
    "tools = [get_schema(Dummy.sums)]\n",
    "o = Dummy()\n",
    "\n",
    "msgs = mk_msgs(pr)\n",
    "r = c(msgs, sp=sp, tools=tools, tool_choice=choice)\n",
    "tr = mk_toolres(r, obj=o)\n",
    "msgs += tr\n",
    "contents(c(msgs, sp=sp, tools=tools))"
   ]
  },
  {
   "cell_type": "markdown",
   "id": "4ea144b8",
   "metadata": {},
   "source": [
    "## Chat"
   ]
  },
  {
   "cell_type": "markdown",
   "id": "419fab81",
   "metadata": {},
   "source": [
    "Rather than manually adding the responses to a dialog, we'll create a simple `Chat` class to do that for us, each time we make a request. We'll also store the system prompt and tools here, to avoid passing them every time."
   ]
  },
  {
   "cell_type": "code",
   "execution_count": 73,
   "id": "a77d1edb",
   "metadata": {},
   "outputs": [],
   "source": [
    "#| exports\n",
    "class Chat:\n",
    "    def __init__(self,\n",
    "                 model:Optional[str]=None, # Model to use (leave empty if passing `cli`)\n",
    "                 cli:Optional[Client]=None, # Client to use (leave empty if passing `model`)\n",
    "                 sp='', # Optional system prompt\n",
    "                 tools:Optional[list]=None, # List of tools to make available to Claude\n",
    "                 tool_choice:Optional[dict]=None): # Optionally force use of some tool\n",
    "        \"Anthropic chat client.\"\n",
    "        assert model or cli\n",
    "        self.c = (cli or Client(model))\n",
    "        self.h,self.sp,self.tools,self.tool_choice = [],sp,tools,tool_choice\n",
    "\n",
    "    @property\n",
    "    def use(self): return self.c.use"
   ]
  },
  {
   "cell_type": "markdown",
   "id": "c3f16d4e",
   "metadata": {},
   "source": [
    "The class stores the `Client` that will provide the responses in `c`, and a history of messages in `h`."
   ]
  },
  {
   "cell_type": "code",
   "execution_count": 74,
   "id": "04b837c5",
   "metadata": {},
   "outputs": [
    {
     "data": {
      "text/plain": [
       "(In: 0; Out: 0; Total: 0, [])"
      ]
     },
     "execution_count": 74,
     "metadata": {},
     "output_type": "execute_result"
    }
   ],
   "source": [
    "sp = \"Never mention what tools you use.\"\n",
    "chat = Chat(model, sp=sp)\n",
    "chat.c.use, chat.h"
   ]
  },
  {
   "cell_type": "code",
   "execution_count": 75,
   "id": "42a05df9",
   "metadata": {},
   "outputs": [],
   "source": [
    "#| exports\n",
    "@patch\n",
    "def _stream(self:Chat, res):\n",
    "    yield from res\n",
    "    self.h += mk_toolres(self.c.result, ns=self.tools, obj=self)"
   ]
  },
  {
   "cell_type": "code",
   "execution_count": 76,
   "id": "bec85e37",
   "metadata": {},
   "outputs": [],
   "source": [
    "#| exports\n",
    "@patch\n",
    "def __call__(self:Chat,\n",
    "             pr=None,  # Prompt / message\n",
    "             temp=0, # Temperature\n",
    "             maxtok=4096, # Maximum tokens\n",
    "             stream=False, # Stream response?\n",
    "             prefill='', # Optional prefill to pass to Claude as start of its response\n",
    "             **kw):\n",
    "    if pr and self.h and nested_idx(self.h, -1, 'role')=='user':\n",
    "        self() # There's already a user request pending, so complete it\n",
    "    if pr: self.h.append(mk_msg(pr))\n",
    "    if self.tools: kw['tools'] = [get_schema(o) for o in self.tools]\n",
    "    if self.tool_choice: kw['tool_choice'] = mk_tool_choice(self.tool_choice)\n",
    "    res = self.c(self.h, stream=stream, prefill=prefill, sp=self.sp, temp=temp, maxtok=maxtok, **kw)\n",
    "    if stream: return self._stream(res)\n",
    "    self.h += mk_toolres(self.c.result, ns=self.tools, obj=self)\n",
    "    return res"
   ]
  },
  {
   "cell_type": "markdown",
   "id": "f97c5cd7",
   "metadata": {},
   "source": [
    "The `__call__` method just passes the request along to the `Client`, but rather than just passing in this one prompt, it appends it to the history and passes it all along. As a result, we now have state!"
   ]
  },
  {
   "cell_type": "code",
   "execution_count": 77,
   "id": "40073f42",
   "metadata": {},
   "outputs": [
    {
     "data": {
      "text/markdown": [
       "Your name is Jeremy, as you mentioned earlier.\n",
       "\n",
       "<details>\n",
       "\n",
       "- id: msg_01TcLNi4xhofPufafbto8NE4\n",
       "- content: [{'text': 'Your name is Jeremy, as you mentioned earlier.', 'type': 'text'}]\n",
       "- model: claude-3-haiku-20240307\n",
       "- role: assistant\n",
       "- stop_reason: end_turn\n",
       "- stop_sequence: None\n",
       "- type: message\n",
       "- usage: {'input_tokens': 76, 'output_tokens': 13}\n",
       "\n",
       "</details>"
      ],
      "text/plain": [
       "Message(id='msg_01TcLNi4xhofPufafbto8NE4', content=[TextBlock(text='Your name is Jeremy, as you mentioned earlier.', type='text')], model='claude-3-haiku-20240307', role='assistant', stop_reason='end_turn', stop_sequence=None, type='message', usage=In: 76; Out: 13; Total: 89)"
      ]
     },
     "execution_count": 77,
     "metadata": {},
     "output_type": "execute_result"
    }
   ],
   "source": [
    "chat(\"I'm Jeremy\")\n",
    "chat(\"What's my name?\")"
   ]
  },
  {
   "cell_type": "markdown",
   "id": "a7df0327",
   "metadata": {},
   "source": [
    "Let's try out prefill too:"
   ]
  },
  {
   "cell_type": "code",
   "execution_count": 78,
   "id": "20a32de0",
   "metadata": {},
   "outputs": [],
   "source": [
    "q = \"Concisely, what is the meaning of life?\"\n",
    "pref = 'According to Douglas Adams,'"
   ]
  },
  {
   "cell_type": "code",
   "execution_count": 79,
   "id": "9b28705d",
   "metadata": {},
   "outputs": [
    {
     "data": {
      "text/markdown": [
       "According to Douglas Adams,  \"The answer to the ultimate question of life, the universe, and everything is 42.\"\n",
       "\n",
       "<details>\n",
       "\n",
       "- id: msg_01GvD3rhkCmn8Ydg3ZnaJiy1\n",
       "- content: [{'text': 'According to Douglas Adams,  \"The answer to the ultimate question of life, the universe, and everything is 42.\"', 'type': 'text'}]\n",
       "- model: claude-3-haiku-20240307\n",
       "- role: assistant\n",
       "- stop_reason: end_turn\n",
       "- stop_sequence: None\n",
       "- type: message\n",
       "- usage: {'input_tokens': 109, 'output_tokens': 23}\n",
       "\n",
       "</details>"
      ],
      "text/plain": [
       "Message(id='msg_01GvD3rhkCmn8Ydg3ZnaJiy1', content=[TextBlock(text='According to Douglas Adams,  \"The answer to the ultimate question of life, the universe, and everything is 42.\"', type='text')], model='claude-3-haiku-20240307', role='assistant', stop_reason='end_turn', stop_sequence=None, type='message', usage=In: 109; Out: 23; Total: 132)"
      ]
     },
     "execution_count": 79,
     "metadata": {},
     "output_type": "execute_result"
    }
   ],
   "source": [
    "chat(q, prefill=pref)"
   ]
  },
  {
   "cell_type": "code",
   "execution_count": 80,
   "id": "529104ec",
   "metadata": {},
   "outputs": [
    {
     "name": "stdout",
     "output_type": "stream",
     "text": [
      "It's nice to meet you, Jeremy! I'm an AI assistant created by Anthropic. I'm here to help with any questions or tasks you may have. Please let me know if there's anything I can assist you with."
     ]
    }
   ],
   "source": [
    "chat = Chat(model, sp=sp)\n",
    "for o in chat(\"I'm Jeremy\", stream=True): print(o, end='')"
   ]
  },
  {
   "cell_type": "code",
   "execution_count": 81,
   "id": "14abb3dc",
   "metadata": {},
   "outputs": [
    {
     "name": "stdout",
     "output_type": "stream",
     "text": [
      "According to Douglas Adams,  \"The answer to the ultimate question of life, the universe, and everything is 42.\""
     ]
    }
   ],
   "source": [
    "for o in chat(q, prefill=pref, stream=True): print(o, end='')"
   ]
  },
  {
   "cell_type": "markdown",
   "id": "6b40892f",
   "metadata": {},
   "source": [
    "### Chat tool use"
   ]
  },
  {
   "cell_type": "markdown",
   "id": "062f7edf",
   "metadata": {},
   "source": [
    "We automagically get streamlined tool use as well:"
   ]
  },
  {
   "cell_type": "code",
   "execution_count": 82,
   "id": "ee6535cf",
   "metadata": {},
   "outputs": [
    {
     "data": {
      "text/plain": [
       "'What is 604542+6458932?'"
      ]
     },
     "execution_count": 82,
     "metadata": {},
     "output_type": "execute_result"
    }
   ],
   "source": [
    "pr = f\"What is {a}+{b}?\"\n",
    "pr"
   ]
  },
  {
   "cell_type": "code",
   "execution_count": 83,
   "id": "797741c5",
   "metadata": {},
   "outputs": [
    {
     "name": "stdout",
     "output_type": "stream",
     "text": [
      "Finding the sum of 604542 and 6458932\n"
     ]
    },
    {
     "data": {
      "text/markdown": [
       "ToolUseBlock(id='toolu_014JuXX1MjxXFnrBYpe3sL8J', input={'a': 604542, 'b': 6458932}, name='sums', type='tool_use')\n",
       "\n",
       "<details>\n",
       "\n",
       "- id: msg_011rW4DbLaV5YzshGNB6byeu\n",
       "- content: [{'id': 'toolu_014JuXX1MjxXFnrBYpe3sL8J', 'input': {'a': 604542, 'b': 6458932}, 'name': 'sums', 'type': 'tool_use'}]\n",
       "- model: claude-3-haiku-20240307\n",
       "- role: assistant\n",
       "- stop_reason: tool_use\n",
       "- stop_sequence: None\n",
       "- type: message\n",
       "- usage: {'input_tokens': 398, 'output_tokens': 72}\n",
       "\n",
       "</details>"
      ],
      "text/plain": [
       "Message(id='msg_011rW4DbLaV5YzshGNB6byeu', content=[ToolUseBlock(id='toolu_014JuXX1MjxXFnrBYpe3sL8J', input={'a': 604542, 'b': 6458932}, name='sums', type='tool_use')], model='claude-3-haiku-20240307', role='assistant', stop_reason='tool_use', stop_sequence=None, type='message', usage=In: 398; Out: 72; Total: 470)"
      ]
     },
     "execution_count": 83,
     "metadata": {},
     "output_type": "execute_result"
    }
   ],
   "source": [
    "chat = Chat(model, sp=sp, tools=[sums])\n",
    "r = chat(pr)\n",
    "r"
   ]
  },
  {
   "cell_type": "code",
   "execution_count": null,
   "id": "0979c832",
   "metadata": {},
   "outputs": [],
   "source": [
    "chat()"
   ]
  },
  {
   "cell_type": "markdown",
   "id": "b7054a02",
   "metadata": {},
   "source": [
    "It should be correct, because it actually used our Python function to do the addition. Let's check:"
   ]
  },
  {
   "cell_type": "code",
   "execution_count": null,
   "id": "b7ff0879",
   "metadata": {},
   "outputs": [],
   "source": [
    "a+b"
   ]
  },
  {
   "cell_type": "markdown",
   "id": "df1dd4c3",
   "metadata": {},
   "source": [
    "## Images"
   ]
  },
  {
   "cell_type": "markdown",
   "id": "cf741dbc",
   "metadata": {},
   "source": [
    "Claude can handle image data as well. As everyone knows, when testing image APIs you have to use a cute puppy."
   ]
  },
  {
   "cell_type": "code",
   "execution_count": null,
   "id": "5d35d564",
   "metadata": {},
   "outputs": [],
   "source": [
    "# Image is Cute_dog.jpg from Wikimedia\n",
    "fn = Path('samples/puppy.jpg')\n",
    "display.Image(filename=fn, width=200)"
   ]
  },
  {
   "cell_type": "code",
   "execution_count": null,
   "id": "d120d8fb",
   "metadata": {},
   "outputs": [],
   "source": [
    "img = fn.read_bytes()"
   ]
  },
  {
   "cell_type": "code",
   "execution_count": null,
   "id": "af0c7392",
   "metadata": {},
   "outputs": [],
   "source": [
    "#| exports\n",
    "def img_msg(data:bytes)->dict:\n",
    "    \"Convert image `data` into an encoded `dict`\"\n",
    "    img = base64.b64encode(data).decode(\"utf-8\")\n",
    "    mtype = mimetypes.types_map['.'+imghdr.what(None, h=data)]\n",
    "    r = dict(type=\"base64\", media_type=mtype, data=img)\n",
    "    return {\"type\": \"image\", \"source\": r}"
   ]
  },
  {
   "cell_type": "markdown",
   "id": "5f3b6dee",
   "metadata": {},
   "source": [
    "Anthropic have documented the particular `dict` structure that expect image data to be in, so we have a little function to create that for us."
   ]
  },
  {
   "cell_type": "code",
   "execution_count": null,
   "id": "07b3340d",
   "metadata": {},
   "outputs": [],
   "source": [
    "#| exports\n",
    "def text_msg(s:str)->dict:\n",
    "    \"Convert `s` to a text message\"\n",
    "    return {\"type\": \"text\", \"text\": s}"
   ]
  },
  {
   "cell_type": "markdown",
   "id": "eeb468d9",
   "metadata": {},
   "source": [
    "A Claude message can be a list of image and text parts. So we've also created a helper for making the text parts."
   ]
  },
  {
   "cell_type": "code",
   "execution_count": null,
   "id": "0c0eed5d",
   "metadata": {},
   "outputs": [],
   "source": [
    "q = \"In brief, what color flowers are in this image?\"\n",
    "msg = mk_msg([img_msg(img), text_msg(q)])"
   ]
  },
  {
   "cell_type": "code",
   "execution_count": null,
   "id": "2295c2d3",
   "metadata": {},
   "outputs": [],
   "source": [
    "c([msg])"
   ]
  },
  {
   "cell_type": "code",
   "execution_count": null,
   "id": "8764c605",
   "metadata": {},
   "outputs": [],
   "source": [
    "#| exports\n",
    "def _mk_content(src):\n",
    "    \"Create appropriate content data structure based on type of content\"\n",
    "    if isinstance(src,str): return text_msg(src)\n",
    "    if isinstance(src,bytes): return img_msg(src)\n",
    "    return src"
   ]
  },
  {
   "cell_type": "markdown",
   "id": "a67923d1",
   "metadata": {},
   "source": [
    "There's not need to manually choose the type of message, since we figure that out from the data of the source data."
   ]
  },
  {
   "cell_type": "code",
   "execution_count": null,
   "id": "6ccff61c",
   "metadata": {},
   "outputs": [],
   "source": [
    "_mk_content('Hi')"
   ]
  },
  {
   "cell_type": "code",
   "execution_count": null,
   "id": "a33731ba",
   "metadata": {},
   "outputs": [],
   "source": [
    "#| exports\n",
    "def mk_msg(content, # A string, list, or dict containing the contents of the message\n",
    "           role='user', # Must be 'user' or 'assistant'\n",
    "           **kw):\n",
    "    \"Helper to create a `dict` appropriate for a Claude message. `kw` are added as key/value pairs to the message\"\n",
    "    if hasattr(content, 'content'): content,role = content.content,content.role\n",
    "    if isinstance(content, abc.Mapping): content=content['content']\n",
    "    if not isinstance(content, list): content=[content]\n",
    "    content = [_mk_content(o) for o in content] if content else '.'\n",
    "    return dict(role=role, content=content, **kw)"
   ]
  },
  {
   "cell_type": "markdown",
   "id": "339cbd22",
   "metadata": {},
   "source": [
    "When we construct a message, we now use `_mk_content` to create the appropriate parts. Since a dialog contains multiple messages, and a message can contain multiple content parts, to pass a single message with multiple parts we have to use a list containing a single list:"
   ]
  },
  {
   "cell_type": "code",
   "execution_count": null,
   "id": "4f2ea0d4",
   "metadata": {},
   "outputs": [],
   "source": [
    "c([[img, q]])"
   ]
  },
  {
   "cell_type": "markdown",
   "id": "4daa7f37",
   "metadata": {},
   "source": [
    ":::{.callout-note}\n",
    "\n",
    "As promised (much!) earlier, we've now finally completed our definition of `mk_msg`, and this version is the one we export to the Python module.\n",
    "\n",
    ":::"
   ]
  },
  {
   "cell_type": "markdown",
   "id": "b1580f5c",
   "metadata": {},
   "source": [
    "## Third party providers"
   ]
  },
  {
   "cell_type": "markdown",
   "id": "bd88f878",
   "metadata": {},
   "source": [
    "### Amazon Bedrock"
   ]
  },
  {
   "cell_type": "markdown",
   "id": "a6ecba86",
   "metadata": {},
   "source": [
    "These are Amazon's current Claude models:"
   ]
  },
  {
   "cell_type": "code",
   "execution_count": null,
   "id": "81d16826",
   "metadata": {},
   "outputs": [],
   "source": [
    "#| export\n",
    "models_aws = ('anthropic.claude-3-haiku-20240307-v1:0', 'anthropic.claude-3-sonnet-20240229-v1:0',\n",
    "    'anthropic.claude-3-opus-20240229-v1:0', 'anthropic.claude-3-5-sonnet-20240620-v1:0')"
   ]
  },
  {
   "cell_type": "markdown",
   "id": "9b8b2bc4",
   "metadata": {},
   "source": [
    "We don't need any extra code to support Amazon Bedrock -- we just have to set up the approach client:"
   ]
  },
  {
   "cell_type": "code",
   "execution_count": null,
   "id": "5fd151fe",
   "metadata": {},
   "outputs": [],
   "source": [
    "ab = AnthropicBedrock(\n",
    "    aws_access_key=os.environ['AWS_ACCESS_KEY'],\n",
    "    aws_secret_key=os.environ['AWS_SECRET_KEY'],\n",
    ")\n",
    "client = Client(models_aws[-1], ab)"
   ]
  },
  {
   "cell_type": "code",
   "execution_count": null,
   "id": "f1f2f214",
   "metadata": {},
   "outputs": [],
   "source": [
    "chat = Chat(cli=client)"
   ]
  },
  {
   "cell_type": "code",
   "execution_count": null,
   "id": "ec54a422",
   "metadata": {},
   "outputs": [],
   "source": [
    "chat(\"I'm Jeremy\")"
   ]
  },
  {
   "cell_type": "markdown",
   "id": "1b331146",
   "metadata": {},
   "source": [
    "### Google Vertex"
   ]
  },
  {
   "cell_type": "code",
   "execution_count": null,
   "id": "fdb46839",
   "metadata": {},
   "outputs": [],
   "source": [
    "#| export\n",
    "models_goog = 'claude-3-haiku@20240307', 'claude-3-sonnet@20240229', 'claude-3-opus@20240229', 'claude-3-5-sonnet@20240620'"
   ]
  },
  {
   "cell_type": "code",
   "execution_count": null,
   "id": "30921ab4",
   "metadata": {},
   "outputs": [],
   "source": [
    "from anthropic import AnthropicVertex\n",
    "import google.auth"
   ]
  },
  {
   "cell_type": "code",
   "execution_count": null,
   "id": "c00ef664",
   "metadata": {},
   "outputs": [],
   "source": [
    "project_id = google.auth.default()[1]\n",
    "region = \"us-east5\"\n",
    "gv = AnthropicVertex(project_id=project_id, region=region)\n",
    "client = Client(models_goog[-1], gv)"
   ]
  },
  {
   "cell_type": "code",
   "execution_count": null,
   "id": "7d0481b5",
   "metadata": {},
   "outputs": [],
   "source": [
    "chat = Chat(cli=client)"
   ]
  },
  {
   "cell_type": "code",
   "execution_count": null,
   "id": "11006ae0",
   "metadata": {},
   "outputs": [],
   "source": [
    "chat(\"I'm Jeremy\")"
   ]
  },
  {
   "cell_type": "markdown",
   "id": "94ec4289",
   "metadata": {},
   "source": [
    "## Export -"
   ]
  },
  {
   "cell_type": "code",
   "execution_count": null,
   "id": "1e9ee5c1",
   "metadata": {},
   "outputs": [],
   "source": [
    "#|hide\n",
    "#|eval: false\n",
    "from nbdev.doclinks import nbdev_export\n",
    "nbdev_export()"
   ]
  },
  {
   "cell_type": "code",
   "execution_count": null,
   "id": "207f9715",
   "metadata": {},
   "outputs": [],
   "source": []
  }
 ],
 "metadata": {
  "kernelspec": {
   "display_name": "python3",
   "language": "python",
   "name": "python3"
  },
  "language_info": {
   "codemirror_mode": {
    "name": "ipython",
    "version": 3
   },
   "file_extension": ".py",
   "mimetype": "text/x-python",
   "name": "python",
   "nbconvert_exporter": "python",
   "pygments_lexer": "ipython3",
   "version": "3.10.12"
  }
 },
 "nbformat": 4,
 "nbformat_minor": 5
}
